{
 "cells": [
  {
   "cell_type": "code",
   "execution_count": 1,
   "metadata": {},
   "outputs": [],
   "source": [
    "%load_ext autoreload\n",
    "%autoreload 2"
   ]
  },
  {
   "cell_type": "code",
   "execution_count": 8,
   "metadata": {},
   "outputs": [],
   "source": [
    "from bs4 import BeautifulSoup"
   ]
  },
  {
   "cell_type": "code",
   "execution_count": 8,
   "metadata": {},
   "outputs": [],
   "source": [
    "tst = \"a\"*1000\n",
    "def test():\n",
    "    for i in range(len(tst)):\n",
    "        x=tst[i]"
   ]
  },
  {
   "cell_type": "code",
   "execution_count": 7,
   "metadata": {},
   "outputs": [
    {
     "name": "stdout",
     "output_type": "stream",
     "text": [
      "115 µs ± 2.01 µs per loop (mean ± std. dev. of 7 runs, 10000 loops each)\n"
     ]
    }
   ],
   "source": [
    "%timeit test()"
   ]
  },
  {
   "cell_type": "code",
   "execution_count": 9,
   "metadata": {},
   "outputs": [
    {
     "name": "stdout",
     "output_type": "stream",
     "text": [
      "479 µs ± 9.79 µs per loop (mean ± std. dev. of 7 runs, 1000 loops each)\n"
     ]
    }
   ],
   "source": [
    "%timeit test()"
   ]
  },
  {
   "cell_type": "code",
   "execution_count": 16,
   "metadata": {},
   "outputs": [
    {
     "data": {
      "text/plain": [
       "'スト\\n    テスト\\n    -->\\n    テスト\\n    '"
      ]
     },
     "execution_count": 16,
     "metadata": {},
     "output_type": "execute_result"
    }
   ],
   "source": [
    "BeautifulSoup(\n",
    "    \"\"\"\n",
    "    スト\n",
    "    テスト\n",
    "    -->\n",
    "    テスト\n",
    "    \"\"\", \"html\").getText()"
   ]
  },
  {
   "cell_type": "code",
   "execution_count": 1,
   "metadata": {},
   "outputs": [],
   "source": [
    "import yaml\n",
    "import jawiki_extractor\n",
    "decorators = yaml.safe_load(open(\"jawiki_extractor/consts/line_decorators.yml\"))"
   ]
  },
  {
   "cell_type": "code",
   "execution_count": 2,
   "metadata": {},
   "outputs": [],
   "source": [
    "def remove_by_length():\n",
    "    pass\n"
   ]
  },
  {
   "cell_type": "code",
   "execution_count": 9,
   "metadata": {},
   "outputs": [],
   "source": [
    "def parse_dict(dic):\n",
    "    for key, value in dic.items():\n",
    "        if isinstance(value, dict):\n",
    "            parse_dict(value)\n",
    "        elif key == \"identifier\":\n",
    "            if isinstance(value, list):\n",
    "                dic[key] = tuple(value)\n",
    "        elif key == \"strip_func\":\n",
    "            pass\n",
    "    "
   ]
  },
  {
   "cell_type": "code",
   "execution_count": 10,
   "metadata": {},
   "outputs": [],
   "source": [
    "parse_dict(decorators)"
   ]
  },
  {
   "cell_type": "code",
   "execution_count": 11,
   "metadata": {},
   "outputs": [
    {
     "data": {
      "text/plain": [
       "{'prefix': {'page': {'identifier': '<page>', 'strip_func': 'remove_by_length'},\n",
       "  'title': {'identifier': '<title>', 'strip_func': 'remove_by_length'},\n",
       "  'text': {'identifier': '<text',\n",
       "   'strip_func': 'remove_by_angle_close_bracket_offset'},\n",
       "  'decorations': {'identifier': (';', ':', '#', '*'),\n",
       "   'strip_func': 'remove_until_continuous_char_end'},\n",
       "  'redirect': {'identifier': ('#REDIRECT', '#転送')}},\n",
       " 'suffix': {'page': {'identifier': '</page>',\n",
       "   'strip_func': 'remove_by_length'},\n",
       "  'title': {'identifier': '</title>', 'strip_func': 'remove_by_length'},\n",
       "  'text': {'identifier': '</text>', 'strip_func': 'remove_by_length'}},\n",
       " 'affix': {'section_header': {'prefix': '==', 'suffix': '=='}},\n",
       " 'alias': {'holizontal_line': '----'}}"
      ]
     },
     "execution_count": 11,
     "metadata": {},
     "output_type": "execute_result"
    }
   ],
   "source": [
    "decorators"
   ]
  },
  {
   "cell_type": "code",
   "execution_count": 2,
   "metadata": {},
   "outputs": [],
   "source": [
    "from jawiki_extractor.page_parser.structure_parser.line_processor import LineProcessor"
   ]
  },
  {
   "cell_type": "code",
   "execution_count": 3,
   "metadata": {},
   "outputs": [
    {
     "data": {
      "text/plain": [
       "' test'"
      ]
     },
     "execution_count": 3,
     "metadata": {},
     "output_type": "execute_result"
    }
   ],
   "source": [
    "LineProcessor.strip_prefix(\"<text = hoergo a> test\", \"text\")"
   ]
  },
  {
   "cell_type": "code",
   "execution_count": 5,
   "metadata": {},
   "outputs": [
    {
     "data": {
      "text/plain": [
       "['脚注', '外部リンク', '関連項目', '出典', '注釈', '脚注', '参考文献']"
      ]
     },
     "execution_count": 5,
     "metadata": {},
     "output_type": "execute_result"
    }
   ],
   "source": [
    "import yaml\n",
    "yaml.safe_load(open(\"jawiki_extractor/consts/ignore_section_headers.yml\"))"
   ]
  },
  {
   "cell_type": "code",
   "execution_count": 41,
   "metadata": {},
   "outputs": [],
   "source": [
    "import re\n",
    "comment = re.compile(r'<!--.*-->', re.DOTALL)\n",
    "table = re.compile(r\"{\\|(?!.*({\\||\\|})).*\\|}\", re.DOTALL)\n"
   ]
  },
  {
   "cell_type": "code",
   "execution_count": 92,
   "metadata": {},
   "outputs": [],
   "source": []
  },
  {
   "cell_type": "code",
   "execution_count": 93,
   "metadata": {},
   "outputs": [
    {
     "data": {
      "text/plain": [
       "<regex.Match object; span=(0, 4), match='{||}'>"
      ]
     },
     "execution_count": 93,
     "metadata": {},
     "output_type": "execute_result"
    }
   ],
   "source": [
    "exp.search(\"{||}ほげ{||}\")"
   ]
  },
  {
   "cell_type": "code",
   "execution_count": null,
   "metadata": {},
   "outputs": [],
   "source": []
  }
 ],
 "metadata": {
  "kernelspec": {
   "display_name": "Python 3",
   "language": "python",
   "name": "python3"
  },
  "language_info": {
   "codemirror_mode": {
    "name": "ipython",
    "version": 3
   },
   "file_extension": ".py",
   "mimetype": "text/x-python",
   "name": "python",
   "nbconvert_exporter": "python",
   "pygments_lexer": "ipython3",
   "version": "3.7.7"
  }
 },
 "nbformat": 4,
 "nbformat_minor": 4
}
