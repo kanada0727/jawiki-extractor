{
 "cells": [
  {
   "cell_type": "code",
   "execution_count": 67,
   "metadata": {},
   "outputs": [],
   "source": [
    "class Section:\n",
    "    def __init__(self, header=None, level=None, parent=None, children=None):\n",
    "        self.header = header or \"\"\n",
    "        self.level = level or 0\n",
    "        self.parent = parent\n",
    "        self.children = children or []\n",
    "        \n",
    "    def __iter__(self):\n",
    "        yield self\n",
    "        for child in self.children:\n",
    "            yield from iter(child)\n",
    "    \n",
    "    def add_child(self, child):\n",
    "        self.children.append(child)\n",
    "        child.parent = self\n",
    "    \n",
    "    def __repr__(self):\n",
    "        return f\"Section<header:{self.header}>\""
   ]
  },
  {
   "cell_type": "code",
   "execution_count": 68,
   "metadata": {},
   "outputs": [],
   "source": [
    "root=Section(header=\"root\")\n",
    "child1 = Section(header=\"child1\")\n",
    "child2 = Section(header=\"child2\")\n",
    "grand_child1 = Section(header=\"grand child1\")\n",
    "grand_child2 = Section(header=\"grand child2\")\n",
    "grand_child3 = Section(header=\"grand child3\")\n",
    "\n"
   ]
  },
  {
   "cell_type": "code",
   "execution_count": 69,
   "metadata": {},
   "outputs": [],
   "source": [
    "root.add_child(child1)\n",
    "root.add_child(child2)\n",
    "child1.add_child(grand_child1)\n",
    "child1.add_child(grand_child2)\n",
    "grand_child2.add_child(grand_child3)\n"
   ]
  },
  {
   "cell_type": "code",
   "execution_count": 70,
   "metadata": {},
   "outputs": [
    {
     "data": {
      "text/plain": [
       "[Section<header:child1>, Section<header:child2>]"
      ]
     },
     "execution_count": 70,
     "metadata": {},
     "output_type": "execute_result"
    }
   ],
   "source": [
    "root.children"
   ]
  },
  {
   "cell_type": "code",
   "execution_count": 71,
   "metadata": {},
   "outputs": [
    {
     "name": "stdout",
     "output_type": "stream",
     "text": [
      "root\n",
      "child1\n",
      "grand child1\n",
      "grand child2\n",
      "grand child3\n",
      "child2\n"
     ]
    }
   ],
   "source": [
    "from time import sleep\n",
    "for child in root:\n",
    "    print(child.header)\n",
    "    sleep(0.3)"
   ]
  },
  {
   "cell_type": "code",
   "execution_count": null,
   "metadata": {},
   "outputs": [],
   "source": []
  }
 ],
 "metadata": {
  "kernelspec": {
   "display_name": "Python 3",
   "language": "python",
   "name": "python3"
  },
  "language_info": {
   "codemirror_mode": {
    "name": "ipython",
    "version": 3
   },
   "file_extension": ".py",
   "mimetype": "text/x-python",
   "name": "python",
   "nbconvert_exporter": "python",
   "pygments_lexer": "ipython3",
   "version": "3.7.7"
  }
 },
 "nbformat": 4,
 "nbformat_minor": 4
}
